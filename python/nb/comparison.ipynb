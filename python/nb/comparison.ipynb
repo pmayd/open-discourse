{
 "cells": [
  {
   "cell_type": "code",
   "execution_count": 1,
   "metadata": {},
   "outputs": [],
   "source": [
    "from pathlib import Path"
   ]
  },
  {
   "cell_type": "code",
   "execution_count": 12,
   "metadata": {},
   "outputs": [],
   "source": [
    "import hashlib\n",
    "from difflib import unified_diff\n",
    "\n",
    "# go through all folders and files in ./comparison/old and for each file\n",
    "# find the corresponding file in ./comparison/new and compare the two files\n",
    "\n",
    "old_dir = Path(\"../comparison/old\")\n",
    "new_dir = Path(\"../comparison/new\")\n",
    "\n",
    "for old_file in old_dir.rglob(\"**/*\"):\n",
    "    if old_file.suffix in [\".txt\", \".xml\"]:\n",
    "        new_file = new_dir / old_file.relative_to(old_dir)\n",
    "        if new_file.exists():\n",
    "            with open(old_file, \"r\") as f:\n",
    "                old_content = f.read()\n",
    "            with open(new_file, \"r\") as f:\n",
    "                new_content = f.read()\n",
    "\n",
    "            # Calculate the hash of the old content\n",
    "            old_hash = hashlib.md5(old_content.encode()).hexdigest()\n",
    "\n",
    "            # Calculate the hash of the new content\n",
    "            new_hash = hashlib.md5(new_content.encode()).hexdigest()\n",
    "\n",
    "            # Compare the hashes\n",
    "            if old_hash != new_hash:\n",
    "                print(f\"Files {old_file} and {new_file} differ.\")\n",
    "\n",
    "                # show difference with difflib\n",
    "                for line in unified_diff(\n",
    "                    old_content.splitlines(), new_content.splitlines(), lineterm=\"\"\n",
    "                ):\n",
    "                    print(line)\n",
    "\n",
    "        else:\n",
    "            print(f\"File {new_file} does not exist.\")"
   ]
  }
 ],
 "metadata": {
  "kernelspec": {
   "display_name": ".venv",
   "language": "python",
   "name": "python3"
  },
  "language_info": {
   "codemirror_mode": {
    "name": "ipython",
    "version": 3
   },
   "file_extension": ".py",
   "mimetype": "text/x-python",
   "name": "python",
   "nbconvert_exporter": "python",
   "pygments_lexer": "ipython3",
   "version": "3.10.14"
  }
 },
 "nbformat": 4,
 "nbformat_minor": 2
}
