{
 "cells": [
  {
   "cell_type": "code",
   "execution_count": 22,
   "metadata": {},
   "outputs": [],
   "source": [
    "from pathlib import Path\n",
    "import re"
   ]
  },
  {
   "cell_type": "code",
   "execution_count": 23,
   "metadata": {},
   "outputs": [],
   "source": [
    "import hashlib\n",
    "from difflib import unified_diff\n",
    "\n",
    "\n",
    "# go through all folders and files in ./comparison/old and for each file\n",
    "# find the corresponding file in ./comparison/new and compare the two files\n",
    "def compare_dirs(dir_one: Path, dir_two: Path, print_diff: bool = False):\n",
    "    for old_file in old_dir.rglob(\"**/*\"):\n",
    "        if old_file.suffix in [\".txt\", \".xml\"]:\n",
    "            new_file = new_dir / old_file.relative_to(old_dir)\n",
    "            if new_file.exists():\n",
    "                with open(old_file, \"r\") as f:\n",
    "                    old_content = f.read()\n",
    "                with open(new_file, \"r\") as f:\n",
    "                    new_content = f.read()\n",
    "\n",
    "                # Calculate the hash of the old content\n",
    "                old_hash = hashlib.md5(old_content.encode()).hexdigest()\n",
    "\n",
    "                # Calculate the hash of the new content\n",
    "                new_hash = hashlib.md5(new_content.encode()).hexdigest()\n",
    "\n",
    "                # Compare the hashes\n",
    "                if old_hash != new_hash:\n",
    "                    print(f\"Files {old_file} and {new_file} differ.\")\n",
    "\n",
    "                    # show difference with difflib\n",
    "                    if print_diff:\n",
    "                        for line in unified_diff(\n",
    "                            old_content.splitlines(),\n",
    "                            new_content.splitlines(),\n",
    "                            lineterm=\"\",\n",
    "                        ):\n",
    "                            print(line)\n",
    "\n",
    "            else:\n",
    "                print(f\"File {new_file} does not exist.\")"
   ]
  },
  {
   "cell_type": "code",
   "execution_count": 25,
   "metadata": {},
   "outputs": [],
   "source": [
    "old_dir = Path(\"../comparison/old\")\n",
    "new_dir = Path(\"../comparison/new\")\n",
    "\n",
    "compare_dirs(old_dir, new_dir, print_diff=True)"
   ]
  },
  {
   "cell_type": "code",
   "execution_count": null,
   "metadata": {},
   "outputs": [],
   "source": [
    "# Deletes all the newlines in brackets\n",
    "import regex\n",
    "\n",
    "\n",
    "def f1(filetext):\n",
    "    bracket_text = regex.finditer(r\"\\(([^(\\)]*(\\(([^(\\)]*)\\))*[^(\\)]*)\\)\", filetext)\n",
    "\n",
    "    for bracket in bracket_text:\n",
    "        filetext = filetext.replace(\n",
    "            str(bracket.group()),\n",
    "            regex.sub(\n",
    "                r\"\\n+\",\n",
    "                \" \",\n",
    "                regex.sub(\n",
    "                    r\"(^((?<!Abg\\.).)+|^.*\\[.+)(-\\n+)\",\n",
    "                    r\"\\1\",\n",
    "                    str(bracket.group()),\n",
    "                    flags=regex.MULTILINE,\n",
    "                ),\n",
    "            ),\n",
    "        )\n",
    "\n",
    "    return filetext\n",
    "\n",
    "\n",
    "def f2(filetext: str) -> str:\n",
    "    # Finds all text within parentheses, including nested parentheses\n",
    "    bracket_text = regex.findall(r\"\\(([^(\\)]*(\\(([^(\\)]*)\\))*[^(\\)]*)\\)\", filetext)\n",
    "\n",
    "    for sub_groups in bracket_text:\n",
    "        # findall does not return the outer brackets compared to finditer\n",
    "        bracket_content = sub_groups[0]\n",
    "        bracket_content = regex.sub(\n",
    "            r\"(^((?<!Abg\\.).)+|^.*\\[.+)(-\\n+)\",\n",
    "            r\"\\1\",\n",
    "            bracket_content,\n",
    "            flags=regex.MULTILINE,\n",
    "        )\n",
    "        bracket_content = regex.sub(r\"\\n+\", \" \", bracket_content)\n",
    "        filetext = filetext.replace(sub_groups[0], bracket_content)\n",
    "\n",
    "    return filetext\n",
    "\n",
    "\n",
    "def f3(filetext: str) -> str:\n",
    "    bracket_text = regex.finditer(r\"\\(([^(\\)]*(\\(([^(\\)]*)\\))*[^(\\)]*)\\)\", filetext)\n",
    "\n",
    "    for bracket in bracket_text:\n",
    "        bracket_text = bracket.group()\n",
    "        # Remove all dashes followed by a new line\n",
    "        bracket_text = regex.sub(\n",
    "            r\"(^((?<!Abg\\.).)+|^.*\\[.+)(-\\n+)\",\n",
    "            r\"\\1\",\n",
    "            bracket_text,\n",
    "            flags=regex.MULTILINE,\n",
    "        )\n",
    "        # Replace newline with spaces\n",
    "        bracket_text = regex.sub(r\"\\n+\", \" \", bracket_text)\n",
    "        # Replace the original text with the cleaned text\n",
    "        filetext = filetext.replace(bracket.group(), bracket_text)\n",
    "\n",
    "    return filetext"
   ]
  },
  {
   "cell_type": "code",
   "execution_count": 46,
   "metadata": {},
   "outputs": [
    {
     "name": "stdout",
     "output_type": "stream",
     "text": [
      "'Ohne den Sinn des Atlantikpakts zu ändern, wäre es nicht möglich, daß Staaten dem Pakt beitreten, die territoriale Ansprüche vorzubringen haben. „Das würde für uns das Risiko bedeuten, in einen Angriffskrieg verwickelt zu werden.\" —\\n(Hört! Hört! bei der SPD und auf der äußersten Rechten. — Zuruf des Abg. Dr. Bucerius: Er erkennt also unsere Ansprüche an!)\\nDas ist Punkt zwei.'\n",
      "'Ohne den Sinn des Atlantikpakts zu ändern, wäre es nicht möglich, daß Staaten dem Pakt beitreten, die territoriale Ansprüche vorzubringen haben. „Das würde für uns das Risiko bedeuten, in einen Angriffskrieg verwickelt zu werden.\" —\\n(Hört! Hört! bei der SPD und auf der äußersten Rechten. — Zuruf des Abg. Dr. Bucerius: Er erkennt also unsere Ansprüche an!)\\nDas ist Punkt zwei.'\n"
     ]
    },
    {
     "data": {
      "text/plain": [
       "True"
      ]
     },
     "execution_count": 46,
     "metadata": {},
     "output_type": "execute_result"
    }
   ],
   "source": [
    "text = \"\"\"Ohne den Sinn des Atlantikpakts zu ändern, wäre es nicht möglich, daß Staaten dem Pakt beitreten, die territoriale Ansprüche vorzubringen haben. „Das würde für uns das Risiko bedeuten, in einen Angriffskrieg verwickelt zu werden.\" —\n",
    "(Hört! Hört! bei der SPD und auf der\n",
    "äußersten Rechten. — Zuruf des Abg. Dr.\n",
    "Bucerius: Er erkennt also unsere Ansprüche an!)\n",
    "Das ist Punkt zwei.\"\"\"\n",
    "\n",
    "print(repr(f1(text)))\n",
    "\n",
    "print(repr(f3(text)))\n",
    "\n",
    "f1(text) == f3(text)\n"
   ]
  },
  {
   "cell_type": "code",
   "execution_count": 38,
   "metadata": {},
   "outputs": [
    {
     "name": "stdout",
     "output_type": "stream",
     "text": [
      "1.59 μs ± 120 ns per loop (mean ± std. dev. of 7 runs, 1,000,000 loops each)\n"
     ]
    }
   ],
   "source": [
    "%%timeit\n",
    "\n",
    "# demonstrate re.findall\n",
    "text = \"This is a (test (string) with (nested) parentheses) and (more) text.\"\n",
    "bracket_text = re.findall(r\"\\(([^(\\)]*(\\(([^(\\)]*)\\))*[^(\\)]*)\\)\", text)\n"
   ]
  },
  {
   "cell_type": "code",
   "execution_count": 37,
   "metadata": {},
   "outputs": [
    {
     "name": "stdout",
     "output_type": "stream",
     "text": [
      "361 ns ± 6.09 ns per loop (mean ± std. dev. of 7 runs, 1,000,000 loops each)\n"
     ]
    }
   ],
   "source": [
    "%%timeit\n",
    "\n",
    "# demonstrate re.findall\n",
    "text = \"This is a (test (string) with (nested) parentheses) and (more) text.\"\n",
    "bracket_text = re.finditer(r\"\\(([^(\\)]*(\\(([^(\\)]*)\\))*[^(\\)]*)\\)\", text)\n"
   ]
  },
  {
   "cell_type": "code",
   "execution_count": 43,
   "metadata": {},
   "outputs": [],
   "source": [
    "text = \"This is a (test (string) with (nested) parentheses) and (more) text.\"\n",
    "bracket_text = re.finditer(r\"\\(([^(\\)]*(\\(([^(\\)]*)\\))*[^(\\)]*)\\)\", text)\n"
   ]
  },
  {
   "cell_type": "code",
   "execution_count": null,
   "metadata": {},
   "outputs": [],
   "source": []
  }
 ],
 "metadata": {
  "kernelspec": {
   "display_name": ".venv",
   "language": "python",
   "name": "python3"
  },
  "language_info": {
   "codemirror_mode": {
    "name": "ipython",
    "version": 3
   },
   "file_extension": ".py",
   "mimetype": "text/x-python",
   "name": "python",
   "nbconvert_exporter": "python",
   "pygments_lexer": "ipython3",
   "version": "3.10.14"
  }
 },
 "nbformat": 4,
 "nbformat_minor": 2
}
